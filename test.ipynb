{
 "cells": [
  {
   "cell_type": "code",
   "execution_count": 13,
   "metadata": {
    "collapsed": true
   },
   "outputs": [
    {
     "name": "stdout",
     "output_type": "stream",
     "text": [
      "[[ 2  3  4  5]\n [ 6  7  8  9]\n [10 11 12 13]]\n(array([0, 0, 0, 0, 1, 1, 1, 1, 2, 2, 2, 2], dtype=int64), array([0, 1, 2, 3, 0, 1, 2, 3, 0, 1, 2, 3], dtype=int64))\n[[ 2  6 10]\n [ 3  7 11]\n [ 4  8 12]\n [ 5  9 13]]\n[[5 5 5 5]\n [6 7 8 9]\n [9 9 9 9]]\n[ 3.5  7.5 11.5]\n"
     ]
    }
   ],
   "source": [
    "import numpy as np\n",
    "a = np.arange(2,14).reshape((3,4))\n",
    "print (a)\n",
    "print(np.nonzero(a))\n",
    "print(np.transpose(a))\n",
    "print(np.clip(a,5,9))\n",
    "print(np.mean(a,axis=1))"
   ]
  },
  {
   "cell_type": "code",
   "execution_count": 21,
   "metadata": {},
   "outputs": [
    {
     "name": "stdout",
     "output_type": "stream",
     "text": [
      "[[ 3  4  5  6]\n [ 7  8  9 10]\n [11 12 13 14]]\n[ 3  7 11]\n[ 4  8 12]\n[ 5  9 13]\n[ 6 10 14]\n"
     ]
    }
   ],
   "source": [
    "import numpy as np\n",
    "a=np.arange(3,15).reshape((3,4))\n",
    "print(a)\n",
    "for row in (a.T):\n",
    "    print(row)"
   ]
  },
  {
   "cell_type": "code",
   "execution_count": 46,
   "metadata": {},
   "outputs": [
    {
     "name": "stdout",
     "output_type": "stream",
     "text": [
      "[[1 2 2 1]\n [1 2 2 1]\n [1 2 2 1]]\n[[1]\n [1]\n [1]\n [2]\n [2]\n [2]\n [2]\n [2]\n [2]\n [1]\n [1]\n [1]]\n"
     ]
    }
   ],
   "source": [
    "import numpy as np\n",
    "a= np.array([1,1,1])[:,np.newaxis]\n",
    "b= np.array([2,2,2])[:,np.newaxis]\n",
    "c= np.vstack((a,b))\n",
    "d= np.hstack((a,b))\n",
    "v=np.concatenate((a,b,b,a),axis=1)\n",
    "h=np.concatenate((a,b,b,a),axis=0)\n",
    "print(v)\n",
    "print(h)"
   ]
  },
  {
   "cell_type": "code",
   "execution_count": null,
   "metadata": {},
   "outputs": [
    {
     "name": "stdout",
     "output_type": "stream",
     "text": [
      "[[ 0  1  2  3]\n [ 4  5  6  7]\n [ 8  9 10 11]\n [12 13 14 15]]\n[array([[ 0,  1,  2,  3],\n       [ 4,  5,  6,  7],\n       [ 8,  9, 10, 11],\n       [12, 13, 14, 15]])]\n"
     ]
    }
   ],
   "source": [
    "A=np.arange(16).reshape((4,4))\n",
    "print(A)\n",
    "print(np.split(A,3,axis=0))"
   ]
  },
  {
   "cell_type": "code",
   "execution_count": null,
   "metadata": {},
   "outputs": [],
   "source": [
    "import pandas as pd\n",
    "s1=pd.Series([1,2,3],index=[1,2,3],name='A')\n",
    "s2=pd.Series([10,20,30],index=[1,2,3],name='B')\n",
    "s2=pd.Series([100,200,300],index=[1,2,3],name='B')"
   ]
  },
  {
   "cell_type": "code",
   "execution_count": null,
   "metadata": {},
   "outputs": [],
   "source": [
    "from time import time\n",
    "\n",
    "import matplotlib.pyplot as plt\n",
    "from mpl_toolkits.mplot3d import Axes3D\n",
    "from matplotlib.ticker import NullFormatter\n",
    "\n",
    "from sklearn import manifold, datasets\n",
    "\n",
    "# 制造样本\n",
    "n_points = 1000\n",
    "X, color = datasets.samples_generator.make_s_curve(n_points, random_state=0)\n",
    "n_neighbors = 10\n",
    "\n",
    "fig = plt.figure(figsize=(5, 5))  #画板\n",
    "gs = fig.add_gridspec(1,2)  #共2副子图\n",
    "ax1 = fig.add_subplot(gs[0,0], projection='3d')  #第一幅子图表示原始样本分布\n",
    "ax1.scatter(X[:, 0], X[:, 1], X[:, 2], c=color, cmap=plt.cm.Spectral)\n",
    "\n",
    "# MDS降维\n",
    "n_components = 2\n",
    "\n",
    "t0 = time()  #计时开始\n",
    "mds = manifold.MDS(n_components, max_iter=100, n_init=1)  #建立MDS模型\n",
    "Y = mds.fit_transform(X)\n",
    "t1 = time()  #计时结束\n",
    "ax2 = fig.add_subplot(gs[0,1])\n",
    "ax2.scatter(Y[:, 0], Y[:, 1], c=color, cmap=plt.cm.Spectral)  #第2副子图表示降维后样本分布\n",
    "ax2.set_title(\"MDS (%.2g sec)\" % (t1 - t0))\n",
    "ax2.xaxis.set_major_formatter(NullFormatter())\n",
    "ax2.yaxis.set_major_formatter(NullFormatter())\n",
    "\n",
    "plt.show()"
   ]
  }
 ],
 "metadata": {
  "kernelspec": {
   "display_name": "Python 2",
   "language": "python",
   "name": "python2"
  },
  "language_info": {
   "codemirror_mode": {
    "name": "ipython",
    "version": 2
   },
   "file_extension": ".py",
   "mimetype": "text/x-python",
   "name": "python",
   "nbconvert_exporter": "python",
   "pygments_lexer": "ipython2",
   "version": "2.7.6"
  }
 },
 "nbformat": 4,
 "nbformat_minor": 0
}
